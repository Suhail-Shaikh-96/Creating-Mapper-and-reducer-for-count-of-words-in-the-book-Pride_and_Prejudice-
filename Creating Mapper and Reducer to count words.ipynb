{
 "cells": [
  {
   "cell_type": "code",
   "execution_count": 1,
   "metadata": {},
   "outputs": [],
   "source": [
    "import pandas as pd\n",
    "import numpy as np\n",
    "import collections\n",
    "import itertools\n",
    "import string\n",
    "from collections import Counter\n",
    "from itertools import chain\n",
    "import nltk\n",
    "from nltk.tokenize import sent_tokenize, word_tokenize\n",
    "    \n",
    "#nltk.download()"
   ]
  },
  {
   "cell_type": "code",
   "execution_count": 6,
   "metadata": {
    "scrolled": false
   },
   "outputs": [],
   "source": [
    "import os\n",
    "os.chdir('E:\\Spring 2020\\IDS 561')\n",
    "data=open('Pride_and_Prejudice.txt',encoding='utf-8',mode='r')\n",
    "#print(data.read())\n",
    "content=data.readlines()\n"
   ]
  },
  {
   "cell_type": "markdown",
   "metadata": {},
   "source": [
    "### Dividing data into two parts to pass it to two Mappers"
   ]
  },
  {
   "cell_type": "code",
   "execution_count": 18,
   "metadata": {},
   "outputs": [],
   "source": [
    "Data=list(filter('\\n'.__ne__,content))\n",
    "Part1=''.join(Data[0:5000])\n",
    "Part2=''.join(Data[5000:])"
   ]
  },
  {
   "cell_type": "markdown",
   "metadata": {},
   "source": [
    "### Function for making a list of words and cleaning the textfile"
   ]
  },
  {
   "cell_type": "code",
   "execution_count": 23,
   "metadata": {},
   "outputs": [],
   "source": [
    "def Tokenizefunction(rawdata):\n",
    "    list1=[]\n",
    "    list1=[i.lower() for i in word_tokenize(rawdata) if i.isalpha()]\n",
    "    return(list1)\n"
   ]
  },
  {
   "cell_type": "code",
   "execution_count": 24,
   "metadata": {},
   "outputs": [],
   "source": [
    "#Calling Tokenizefunction\n",
    "Data1=Tokenizefunction(Part1)\n",
    "Data2=Tokenizefunction(Part2)"
   ]
  },
  {
   "cell_type": "code",
   "execution_count": 39,
   "metadata": {},
   "outputs": [],
   "source": [
    "#print(Data1)\n",
    "#print(Data2)"
   ]
  },
  {
   "cell_type": "markdown",
   "metadata": {},
   "source": [
    "### Mapper function"
   ]
  },
  {
   "cell_type": "code",
   "execution_count": 26,
   "metadata": {},
   "outputs": [],
   "source": [
    "def Mapperfunction(rawdata):\n",
    "    list=[]\n",
    "    for i in rawdata:\n",
    "        list.append([i,1])\n",
    "    return(list)\n",
    "    "
   ]
  },
  {
   "cell_type": "markdown",
   "metadata": {},
   "source": [
    "### Multithreading Mapper function"
   ]
  },
  {
   "cell_type": "code",
   "execution_count": 27,
   "metadata": {},
   "outputs": [],
   "source": [
    "import concurrent.futures\n",
    "def MultithreadingMapper(rawdata1,rawdata2):\n",
    "    with concurrent.futures.ThreadPoolExecutor() as multithreader:\n",
    "            text1 = multithreader.submit(Mapperfunction, rawdata1)\n",
    "            text2 = multithreader.submit(Mapperfunction, rawdata2)\n",
    "            Return1 = text1.result()\n",
    "            Return2 = text2.result()\n",
    "            \n",
    "    Mapperoutput=Return1 + Return2\n",
    "    return(Mapperoutput)\n",
    "    "
   ]
  },
  {
   "cell_type": "code",
   "execution_count": 28,
   "metadata": {},
   "outputs": [],
   "source": [
    "#Calling MultithreadingMapper Function on tokenized data\n",
    "Mapper_Output=MultithreadingMapper(Data1,Data2)"
   ]
  },
  {
   "cell_type": "code",
   "execution_count": 40,
   "metadata": {},
   "outputs": [],
   "source": [
    "#print(Mapper_Output)"
   ]
  },
  {
   "cell_type": "code",
   "execution_count": 29,
   "metadata": {},
   "outputs": [],
   "source": [
    " #Sorting data.If first character of word is less than n then in sort1 else in sort2\n",
    "def sorting(rawdata):\n",
    "    rawdata=sorted(rawdata)\n",
    "    sort1=[]\n",
    "    sort2=[]\n",
    "\n",
    "    for i in rawdata:\n",
    "        if(i[0][0] <'n'):    \n",
    "            sort1.append(i)\n",
    "        else:\n",
    "            sort2.append(i)\n",
    "    return(sort1,sort2)"
   ]
  },
  {
   "cell_type": "code",
   "execution_count": 30,
   "metadata": {},
   "outputs": [],
   "source": [
    " #Calling Sorting function and Partitioning the Key,Value Pair\n",
    "Sorted1,Sorted2=sorting(Mapper_Output)"
   ]
  },
  {
   "cell_type": "markdown",
   "metadata": {},
   "source": [
    "### Reducer Function"
   ]
  },
  {
   "cell_type": "code",
   "execution_count": 31,
   "metadata": {},
   "outputs": [],
   "source": [
    "\n",
    "def Reducer(rawdata):\n",
    "    Frequency=collections.defaultdict(list)\n",
    "    i=0\n",
    "    while(i <len(rawdata)):\n",
    "        count=0\n",
    "        for j in range(i,len(rawdata)):\n",
    "            if(rawdata[i][0] == rawdata[j][0]):\n",
    "                count+=1\n",
    "        Frequency[rawdata[i][0]]=count\n",
    "        i=i+count\n",
    "    return(Frequency)\n",
    "    \n",
    "    "
   ]
  },
  {
   "cell_type": "markdown",
   "metadata": {},
   "source": [
    "# Multithreading Reducer Function"
   ]
  },
  {
   "cell_type": "code",
   "execution_count": 33,
   "metadata": {},
   "outputs": [],
   "source": [
    "def Multithreading_Reducer(rawdata,rawdata1): \n",
    "        with concurrent.futures.ThreadPoolExecutor() as execute:\n",
    "            thread3 = execute.submit(Reducer, rawdata)\n",
    "            thread4 = execute.submit(Reducer, rawdata1)\n",
    "            Return3 = thread3.result()\n",
    "            Return4 = thread4.result()\n",
    "            return(Return3,Return4) "
   ]
  },
  {
   "cell_type": "code",
   "execution_count": 34,
   "metadata": {},
   "outputs": [],
   "source": [
    "Reducer_Output1=collections.defaultdict(list)\n",
    "Reducer_Oulput2=collections.defaultdict(list)"
   ]
  },
  {
   "cell_type": "code",
   "execution_count": 35,
   "metadata": {},
   "outputs": [],
   "source": [
    "#Calling Multithreading Reducer Function\n",
    "Reducer_Output1,Reducer_Output2=Multithreading_Reducer(Sorted1,Sorted2)\n",
    "\n",
    "Reducer_combined_Output = {**Reducer_Output1, **Reducer_Output2}"
   ]
  },
  {
   "cell_type": "markdown",
   "metadata": {},
   "source": [
    "### Reducer Output Function"
   ]
  },
  {
   "cell_type": "code",
   "execution_count": 41,
   "metadata": {},
   "outputs": [],
   "source": [
    "#for i in Reducer_combined_Output.keys():\n",
    "#    print(i,Reducer_combined_Output[i])\n",
    "    "
   ]
  },
  {
   "cell_type": "code",
   "execution_count": 64,
   "metadata": {},
   "outputs": [],
   "source": [
    "#Storing Results in CSV File\n",
    "with open('C:\\Users\\Suhail\\Big Data Analytics_Asg1.csv', 'w') as f:\n",
    "    for i in Reducer_combined_Output.keys():\n",
    "        f.write(\"%s,%s\\n\"%(i,Reducer_combined_Output[i]))"
   ]
  }
 ],
 "metadata": {
  "kernelspec": {
   "display_name": "Python 3",
   "language": "python",
   "name": "python3"
  },
  "language_info": {
   "codemirror_mode": {
    "name": "ipython",
    "version": 3
   },
   "file_extension": ".py",
   "mimetype": "text/x-python",
   "name": "python",
   "nbconvert_exporter": "python",
   "pygments_lexer": "ipython3",
   "version": "3.7.4"
  }
 },
 "nbformat": 4,
 "nbformat_minor": 2
}
